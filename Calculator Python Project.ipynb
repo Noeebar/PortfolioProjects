{
 "cells": [
  {
   "attachments": {},
   "cell_type": "markdown",
   "metadata": {},
   "source": [
    "Calculator"
   ]
  },
  {
   "cell_type": "code",
   "execution_count": 2,
   "metadata": {},
   "outputs": [],
   "source": [
    "def add(x,y):\n",
    "    return x + y\n",
    "\n",
    "def subtract(x,y):\n",
    "    return x - y\n",
    "\n",
    "def multiply(x,y):\n",
    "    return x * y\n",
    "\n",
    "def divide(x,y):\n",
    "    return x / y"
   ]
  },
  {
   "cell_type": "code",
   "execution_count": 4,
   "metadata": {},
   "outputs": [],
   "source": [
    "choice = input(\"Enter Choice: A,S,M,D: \")\n",
    "\n",
    "num1 = float(input('Enter First Number: '))\n",
    "\n",
    "num2 = float(input('Enter Second Number: '))"
   ]
  },
  {
   "cell_type": "code",
   "execution_count": 10,
   "metadata": {},
   "outputs": [
    {
     "name": "stdout",
     "output_type": "stream",
     "text": [
      "10.0 + 10.0 = 20.0\n"
     ]
    }
   ],
   "source": [
    "choice = input(\"Enter Choice: A,S,M,D: \")\n",
    "\n",
    "\n",
    "if choice.upper() in ('A','ADD','ADDITION','S','SUBTRACT','SUBTRACTION','M','MULTIPLY','MULITPLICATION','DIVIDE','DIVISION','D'):\n",
    "    num1 = float(input('Enter First Number: '))\n",
    "    num2 = float(input('Enter Second Number: '))\n",
    "\n",
    "    if choice.upper() in ('A','ADD','ADDITION'):\n",
    "        print(num1, \"+\", num2, \"=\", add(num1,num2)) \n",
    "        \n",
    "\n"
   ]
  },
  {
   "cell_type": "code",
   "execution_count": null,
   "metadata": {},
   "outputs": [],
   "source": []
  }
 ],
 "metadata": {
  "kernelspec": {
   "display_name": "Python 3",
   "language": "python",
   "name": "python3"
  },
  "language_info": {
   "codemirror_mode": {
    "name": "ipython",
    "version": 3
   },
   "file_extension": ".py",
   "mimetype": "text/x-python",
   "name": "python",
   "nbconvert_exporter": "python",
   "pygments_lexer": "ipython3",
   "version": "3.11.2"
  },
  "orig_nbformat": 4
 },
 "nbformat": 4,
 "nbformat_minor": 2
}
