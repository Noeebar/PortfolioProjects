{
 "cells": [
  {
   "cell_type": "code",
   "execution_count": 1,
   "metadata": {},
   "outputs": [
    {
     "name": "stdout",
     "output_type": "stream",
     "text": [
      "hello world\n"
     ]
    }
   ],
   "source": [
    "print(\"hello world\")"
   ]
  },
  {
   "cell_type": "code",
   "execution_count": 2,
   "metadata": {},
   "outputs": [
    {
     "name": "stdout",
     "output_type": "stream",
     "text": [
      "Hello World\n",
      "What is your name?\n",
      "It is good to mee you, Noe\n"
     ]
    }
   ],
   "source": [
    "print('Hello World')\n",
    "\n",
    "print('What is your name?')\n",
    "\n",
    "myName = input()\n",
    "\n",
    "print('It is good to mee you, ' + myName)"
   ]
  },
  {
   "cell_type": "code",
   "execution_count": 10,
   "metadata": {},
   "outputs": [
    {
     "name": "stdout",
     "output_type": "stream",
     "text": [
      "Hello What is your Name?\n",
      "Well Noe, I am thinking of a number between 1 and 20\n",
      "Take a guess.\n",
      "Your guess is too low.\n",
      "You took 1 guesses.\n",
      "Take a guess.\n",
      "Your guess is too low.\n",
      "You took 2 guesses.\n",
      "Take a guess.\n",
      "Your guess is too high\n",
      "You took 3 guesses.\n",
      "Take a guess.\n",
      "Good job, Noe! You guesses my number in 4 guesses. \n"
     ]
    }
   ],
   "source": [
    "import random\n",
    "\n",
    "print('Hello What is your Name?')\n",
    "name = input()\n",
    "secretNumber = random.randint(1,20)\n",
    "print('Well ' + name + ', I am thinking of a number between 1 and 20')\n",
    "\n",
    "# Ask the plyaer to guess 6 times.\n",
    "\n",
    "for guessesTaken in range(1, 7):\n",
    "    print('Take a guess.')\n",
    "    guess = int(input())\n",
    "\n",
    "    if guess < secretNumber:\n",
    "        print('Your guess is too low.')\n",
    "\n",
    "    elif guess > secretNumber:\n",
    "        print('Your guess is too high')\n",
    "    \n",
    "    else:\n",
    "        break\n",
    "\n",
    "    print('You took ' + str(guessesTaken) + ' guesses.')\n",
    "\n",
    "if guess == secretNumber:\n",
    "    print('Good job, ' + name + '! You guessed my number in ' + str(guessesTaken) + ' guesses. ')\n",
    "else:\n",
    "    print('Nope. The number I was thinking of was ' + str(secretNumber))\n",
    "\n",
    "\n",
    "\n",
    "\n",
    "\n"
   ]
  },
  {
   "cell_type": "code",
   "execution_count": null,
   "metadata": {},
   "outputs": [],
   "source": []
  }
 ],
 "metadata": {
  "kernelspec": {
   "display_name": "Python 3",
   "language": "python",
   "name": "python3"
  },
  "language_info": {
   "codemirror_mode": {
    "name": "ipython",
    "version": 3
   },
   "file_extension": ".py",
   "mimetype": "text/x-python",
   "name": "python",
   "nbconvert_exporter": "python",
   "pygments_lexer": "ipython3",
   "version": "3.11.2"
  },
  "orig_nbformat": 4
 },
 "nbformat": 4,
 "nbformat_minor": 2
}
